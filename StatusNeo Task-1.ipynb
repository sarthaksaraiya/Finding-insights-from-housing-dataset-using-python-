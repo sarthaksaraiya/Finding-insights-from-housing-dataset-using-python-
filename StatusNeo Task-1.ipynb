{
 "cells": [
  {
   "cell_type": "code",
   "execution_count": 41,
   "metadata": {},
   "outputs": [],
   "source": [
    "import pandas as pd\n",
    "import matplotlib.pyplot as plt\n",
    "import numpy as np\n",
    "import seaborn as sns\n",
    "from sklearn.preprocessing import StandardScaler,PolynomialFeatures\n",
    "%matplotlib inline"
   ]
  },
  {
   "cell_type": "code",
   "execution_count": 2,
   "metadata": {},
   "outputs": [],
   "source": [
    "data_bangalore = pd.read_csv (r'C:\\\\Users\\\\hp\\\\Downloads\\\\data\\\\data\\\\Bangalore.csv')\n",
    "data_chennai = pd.read_csv (r'C:\\\\Users\\\\hp\\\\Downloads\\\\data\\\\data\\\\Chennai.csv')\n",
    "data_delhi = pd.read_csv (r'C:\\\\Users\\\\hp\\\\Downloads\\\\data\\\\data\\\\Delhi.csv')\n",
    "data_hyderabad = pd.read_csv (r'C:\\\\Users\\\\hp\\\\Downloads\\\\data\\\\data\\\\Hyderabad.csv')\n",
    "data_kolkata = pd.read_csv (r'C:\\\\Users\\\\hp\\\\Downloads\\\\data\\\\data\\\\Kolkata.csv')\n",
    "data_mumbai = pd.read_csv (r'C:\\\\Users\\\\hp\\\\Downloads\\\\data\\\\data\\\\Mumbai.csv')"
   ]
  },
  {
   "cell_type": "code",
   "execution_count": 3,
   "metadata": {},
   "outputs": [
    {
     "data": {
      "text/html": [
       "<div>\n",
       "<style scoped>\n",
       "    .dataframe tbody tr th:only-of-type {\n",
       "        vertical-align: middle;\n",
       "    }\n",
       "\n",
       "    .dataframe tbody tr th {\n",
       "        vertical-align: top;\n",
       "    }\n",
       "\n",
       "    .dataframe thead th {\n",
       "        text-align: right;\n",
       "    }\n",
       "</style>\n",
       "<table border=\"1\" class=\"dataframe\">\n",
       "  <thead>\n",
       "    <tr style=\"text-align: right;\">\n",
       "      <th></th>\n",
       "      <th>Price</th>\n",
       "      <th>Area</th>\n",
       "      <th>Location</th>\n",
       "      <th>No. of Bedrooms</th>\n",
       "      <th>Resale</th>\n",
       "      <th>MaintenanceStaff</th>\n",
       "      <th>Gymnasium</th>\n",
       "      <th>SwimmingPool</th>\n",
       "      <th>LandscapedGardens</th>\n",
       "      <th>JoggingTrack</th>\n",
       "      <th>...</th>\n",
       "      <th>LiftAvailable</th>\n",
       "      <th>BED</th>\n",
       "      <th>VaastuCompliant</th>\n",
       "      <th>Microwave</th>\n",
       "      <th>GolfCourse</th>\n",
       "      <th>TV</th>\n",
       "      <th>DiningTable</th>\n",
       "      <th>Sofa</th>\n",
       "      <th>Wardrobe</th>\n",
       "      <th>Refrigerator</th>\n",
       "    </tr>\n",
       "  </thead>\n",
       "  <tbody>\n",
       "    <tr>\n",
       "      <th>0</th>\n",
       "      <td>30000000</td>\n",
       "      <td>3340</td>\n",
       "      <td>JP Nagar Phase 1</td>\n",
       "      <td>4</td>\n",
       "      <td>0</td>\n",
       "      <td>1</td>\n",
       "      <td>1</td>\n",
       "      <td>1</td>\n",
       "      <td>1</td>\n",
       "      <td>1</td>\n",
       "      <td>...</td>\n",
       "      <td>1</td>\n",
       "      <td>0</td>\n",
       "      <td>0</td>\n",
       "      <td>0</td>\n",
       "      <td>0</td>\n",
       "      <td>0</td>\n",
       "      <td>0</td>\n",
       "      <td>0</td>\n",
       "      <td>0</td>\n",
       "      <td>0</td>\n",
       "    </tr>\n",
       "    <tr>\n",
       "      <th>1</th>\n",
       "      <td>7888000</td>\n",
       "      <td>1045</td>\n",
       "      <td>Dasarahalli on Tumkur Road</td>\n",
       "      <td>2</td>\n",
       "      <td>0</td>\n",
       "      <td>0</td>\n",
       "      <td>1</td>\n",
       "      <td>1</td>\n",
       "      <td>1</td>\n",
       "      <td>1</td>\n",
       "      <td>...</td>\n",
       "      <td>1</td>\n",
       "      <td>0</td>\n",
       "      <td>1</td>\n",
       "      <td>0</td>\n",
       "      <td>0</td>\n",
       "      <td>0</td>\n",
       "      <td>0</td>\n",
       "      <td>0</td>\n",
       "      <td>0</td>\n",
       "      <td>0</td>\n",
       "    </tr>\n",
       "    <tr>\n",
       "      <th>2</th>\n",
       "      <td>4866000</td>\n",
       "      <td>1179</td>\n",
       "      <td>Kannur on Thanisandra Main Road</td>\n",
       "      <td>2</td>\n",
       "      <td>0</td>\n",
       "      <td>0</td>\n",
       "      <td>1</td>\n",
       "      <td>1</td>\n",
       "      <td>1</td>\n",
       "      <td>1</td>\n",
       "      <td>...</td>\n",
       "      <td>1</td>\n",
       "      <td>0</td>\n",
       "      <td>0</td>\n",
       "      <td>0</td>\n",
       "      <td>0</td>\n",
       "      <td>0</td>\n",
       "      <td>0</td>\n",
       "      <td>0</td>\n",
       "      <td>0</td>\n",
       "      <td>0</td>\n",
       "    </tr>\n",
       "    <tr>\n",
       "      <th>3</th>\n",
       "      <td>8358000</td>\n",
       "      <td>1675</td>\n",
       "      <td>Doddanekundi</td>\n",
       "      <td>3</td>\n",
       "      <td>0</td>\n",
       "      <td>0</td>\n",
       "      <td>0</td>\n",
       "      <td>0</td>\n",
       "      <td>0</td>\n",
       "      <td>0</td>\n",
       "      <td>...</td>\n",
       "      <td>1</td>\n",
       "      <td>0</td>\n",
       "      <td>0</td>\n",
       "      <td>0</td>\n",
       "      <td>0</td>\n",
       "      <td>0</td>\n",
       "      <td>0</td>\n",
       "      <td>0</td>\n",
       "      <td>0</td>\n",
       "      <td>0</td>\n",
       "    </tr>\n",
       "    <tr>\n",
       "      <th>4</th>\n",
       "      <td>6845000</td>\n",
       "      <td>1670</td>\n",
       "      <td>Kengeri</td>\n",
       "      <td>3</td>\n",
       "      <td>0</td>\n",
       "      <td>1</td>\n",
       "      <td>1</td>\n",
       "      <td>1</td>\n",
       "      <td>1</td>\n",
       "      <td>1</td>\n",
       "      <td>...</td>\n",
       "      <td>1</td>\n",
       "      <td>0</td>\n",
       "      <td>0</td>\n",
       "      <td>0</td>\n",
       "      <td>0</td>\n",
       "      <td>0</td>\n",
       "      <td>0</td>\n",
       "      <td>0</td>\n",
       "      <td>0</td>\n",
       "      <td>0</td>\n",
       "    </tr>\n",
       "  </tbody>\n",
       "</table>\n",
       "<p>5 rows × 40 columns</p>\n",
       "</div>"
      ],
      "text/plain": [
       "      Price  Area                         Location  No. of Bedrooms  Resale  \\\n",
       "0  30000000  3340                 JP Nagar Phase 1                4       0   \n",
       "1   7888000  1045       Dasarahalli on Tumkur Road                2       0   \n",
       "2   4866000  1179  Kannur on Thanisandra Main Road                2       0   \n",
       "3   8358000  1675                     Doddanekundi                3       0   \n",
       "4   6845000  1670                          Kengeri                3       0   \n",
       "\n",
       "   MaintenanceStaff  Gymnasium  SwimmingPool  LandscapedGardens  JoggingTrack  \\\n",
       "0                 1          1             1                  1             1   \n",
       "1                 0          1             1                  1             1   \n",
       "2                 0          1             1                  1             1   \n",
       "3                 0          0             0                  0             0   \n",
       "4                 1          1             1                  1             1   \n",
       "\n",
       "   ...  LiftAvailable  BED  VaastuCompliant  Microwave  GolfCourse  TV  \\\n",
       "0  ...              1    0                0          0           0   0   \n",
       "1  ...              1    0                1          0           0   0   \n",
       "2  ...              1    0                0          0           0   0   \n",
       "3  ...              1    0                0          0           0   0   \n",
       "4  ...              1    0                0          0           0   0   \n",
       "\n",
       "   DiningTable  Sofa  Wardrobe  Refrigerator  \n",
       "0            0     0         0             0  \n",
       "1            0     0         0             0  \n",
       "2            0     0         0             0  \n",
       "3            0     0         0             0  \n",
       "4            0     0         0             0  \n",
       "\n",
       "[5 rows x 40 columns]"
      ]
     },
     "execution_count": 3,
     "metadata": {},
     "output_type": "execute_result"
    }
   ],
   "source": [
    "data_bangalore.head()"
   ]
  },
  {
   "cell_type": "code",
   "execution_count": 4,
   "metadata": {},
   "outputs": [
    {
     "data": {
      "text/plain": [
       "Electronic City Phase 2    232\n",
       "RR Nagar                   217\n",
       "Begur                      186\n",
       "Varthur                    168\n",
       "Kumaraswamy Layout         154\n",
       "                          ... \n",
       "Dodda Banaswadi              1\n",
       "K P Main Road                1\n",
       "Sanjay Nagar                 1\n",
       "Nagavara                     1\n",
       "Nirman Layout                1\n",
       "Name: Location, Length: 302, dtype: int64"
      ]
     },
     "execution_count": 4,
     "metadata": {},
     "output_type": "execute_result"
    }
   ],
   "source": [
    "data_bangalore['Location'].value_counts()"
   ]
  },
  {
   "cell_type": "code",
   "execution_count": 5,
   "metadata": {},
   "outputs": [
    {
     "data": {
      "text/plain": [
       "(6207, 40)"
      ]
     },
     "execution_count": 5,
     "metadata": {},
     "output_type": "execute_result"
    }
   ],
   "source": [
    "data_bangalore.shape\n"
   ]
  },
  {
   "cell_type": "code",
   "execution_count": 6,
   "metadata": {},
   "outputs": [
    {
     "data": {
      "text/plain": [
       "Price                   int64\n",
       "Area                    int64\n",
       "Location               object\n",
       "No. of Bedrooms         int64\n",
       "Resale                  int64\n",
       "MaintenanceStaff        int64\n",
       "Gymnasium               int64\n",
       "SwimmingPool            int64\n",
       "LandscapedGardens       int64\n",
       "JoggingTrack            int64\n",
       "RainWaterHarvesting     int64\n",
       "IndoorGames             int64\n",
       "ShoppingMall            int64\n",
       "Intercom                int64\n",
       "SportsFacility          int64\n",
       "ATM                     int64\n",
       "ClubHouse               int64\n",
       "School                  int64\n",
       "24X7Security            int64\n",
       "PowerBackup             int64\n",
       "CarParking              int64\n",
       "StaffQuarter            int64\n",
       "Cafeteria               int64\n",
       "MultipurposeRoom        int64\n",
       "Hospital                int64\n",
       "WashingMachine          int64\n",
       "Gasconnection           int64\n",
       "AC                      int64\n",
       "Wifi                    int64\n",
       "Children'splayarea      int64\n",
       "LiftAvailable           int64\n",
       "BED                     int64\n",
       "VaastuCompliant         int64\n",
       "Microwave               int64\n",
       "GolfCourse              int64\n",
       "TV                      int64\n",
       "DiningTable             int64\n",
       "Sofa                    int64\n",
       "Wardrobe                int64\n",
       "Refrigerator            int64\n",
       "dtype: object"
      ]
     },
     "execution_count": 6,
     "metadata": {},
     "output_type": "execute_result"
    }
   ],
   "source": [
    "data_bangalore.dtypes\n"
   ]
  },
  {
   "cell_type": "code",
   "execution_count": 7,
   "metadata": {},
   "outputs": [
    {
     "data": {
      "text/html": [
       "<div>\n",
       "<style scoped>\n",
       "    .dataframe tbody tr th:only-of-type {\n",
       "        vertical-align: middle;\n",
       "    }\n",
       "\n",
       "    .dataframe tbody tr th {\n",
       "        vertical-align: top;\n",
       "    }\n",
       "\n",
       "    .dataframe thead th {\n",
       "        text-align: right;\n",
       "    }\n",
       "</style>\n",
       "<table border=\"1\" class=\"dataframe\">\n",
       "  <thead>\n",
       "    <tr style=\"text-align: right;\">\n",
       "      <th></th>\n",
       "      <th>Price</th>\n",
       "      <th>Area</th>\n",
       "      <th>No. of Bedrooms</th>\n",
       "      <th>Resale</th>\n",
       "      <th>MaintenanceStaff</th>\n",
       "      <th>Gymnasium</th>\n",
       "      <th>SwimmingPool</th>\n",
       "      <th>LandscapedGardens</th>\n",
       "      <th>JoggingTrack</th>\n",
       "      <th>RainWaterHarvesting</th>\n",
       "      <th>...</th>\n",
       "      <th>LiftAvailable</th>\n",
       "      <th>BED</th>\n",
       "      <th>VaastuCompliant</th>\n",
       "      <th>Microwave</th>\n",
       "      <th>GolfCourse</th>\n",
       "      <th>TV</th>\n",
       "      <th>DiningTable</th>\n",
       "      <th>Sofa</th>\n",
       "      <th>Wardrobe</th>\n",
       "      <th>Refrigerator</th>\n",
       "    </tr>\n",
       "  </thead>\n",
       "  <tbody>\n",
       "    <tr>\n",
       "      <th>count</th>\n",
       "      <td>6.207000e+03</td>\n",
       "      <td>6207.000000</td>\n",
       "      <td>6207.000000</td>\n",
       "      <td>6207.000000</td>\n",
       "      <td>6207.000000</td>\n",
       "      <td>6207.000000</td>\n",
       "      <td>6207.000000</td>\n",
       "      <td>6207.000000</td>\n",
       "      <td>6207.000000</td>\n",
       "      <td>6207.000000</td>\n",
       "      <td>...</td>\n",
       "      <td>6207.000000</td>\n",
       "      <td>6207.000000</td>\n",
       "      <td>6207.000000</td>\n",
       "      <td>6207.000000</td>\n",
       "      <td>6207.000000</td>\n",
       "      <td>6207.000000</td>\n",
       "      <td>6207.000000</td>\n",
       "      <td>6207.000000</td>\n",
       "      <td>6207.000000</td>\n",
       "      <td>6207.000000</td>\n",
       "    </tr>\n",
       "    <tr>\n",
       "      <th>mean</th>\n",
       "      <td>1.058510e+07</td>\n",
       "      <td>1526.094248</td>\n",
       "      <td>2.556952</td>\n",
       "      <td>0.078782</td>\n",
       "      <td>6.208797</td>\n",
       "      <td>6.461576</td>\n",
       "      <td>6.436121</td>\n",
       "      <td>6.382471</td>\n",
       "      <td>6.396649</td>\n",
       "      <td>6.373933</td>\n",
       "      <td>...</td>\n",
       "      <td>6.438537</td>\n",
       "      <td>6.211052</td>\n",
       "      <td>6.311100</td>\n",
       "      <td>6.210569</td>\n",
       "      <td>6.181569</td>\n",
       "      <td>6.210569</td>\n",
       "      <td>6.210569</td>\n",
       "      <td>6.210569</td>\n",
       "      <td>6.171097</td>\n",
       "      <td>6.210569</td>\n",
       "    </tr>\n",
       "    <tr>\n",
       "      <th>std</th>\n",
       "      <td>1.410943e+07</td>\n",
       "      <td>764.845609</td>\n",
       "      <td>0.694300</td>\n",
       "      <td>0.269420</td>\n",
       "      <td>4.126883</td>\n",
       "      <td>3.752421</td>\n",
       "      <td>3.792567</td>\n",
       "      <td>3.875271</td>\n",
       "      <td>3.853661</td>\n",
       "      <td>3.888204</td>\n",
       "      <td>...</td>\n",
       "      <td>3.788782</td>\n",
       "      <td>4.123761</td>\n",
       "      <td>3.981513</td>\n",
       "      <td>4.124430</td>\n",
       "      <td>4.164294</td>\n",
       "      <td>4.124430</td>\n",
       "      <td>4.124430</td>\n",
       "      <td>4.124430</td>\n",
       "      <td>4.178546</td>\n",
       "      <td>4.124430</td>\n",
       "    </tr>\n",
       "    <tr>\n",
       "      <th>min</th>\n",
       "      <td>2.000000e+06</td>\n",
       "      <td>415.000000</td>\n",
       "      <td>1.000000</td>\n",
       "      <td>0.000000</td>\n",
       "      <td>0.000000</td>\n",
       "      <td>0.000000</td>\n",
       "      <td>0.000000</td>\n",
       "      <td>0.000000</td>\n",
       "      <td>0.000000</td>\n",
       "      <td>0.000000</td>\n",
       "      <td>...</td>\n",
       "      <td>0.000000</td>\n",
       "      <td>0.000000</td>\n",
       "      <td>0.000000</td>\n",
       "      <td>0.000000</td>\n",
       "      <td>0.000000</td>\n",
       "      <td>0.000000</td>\n",
       "      <td>0.000000</td>\n",
       "      <td>0.000000</td>\n",
       "      <td>0.000000</td>\n",
       "      <td>0.000000</td>\n",
       "    </tr>\n",
       "    <tr>\n",
       "      <th>25%</th>\n",
       "      <td>5.000000e+06</td>\n",
       "      <td>1110.000000</td>\n",
       "      <td>2.000000</td>\n",
       "      <td>0.000000</td>\n",
       "      <td>0.000000</td>\n",
       "      <td>1.000000</td>\n",
       "      <td>1.000000</td>\n",
       "      <td>1.000000</td>\n",
       "      <td>1.000000</td>\n",
       "      <td>1.000000</td>\n",
       "      <td>...</td>\n",
       "      <td>1.000000</td>\n",
       "      <td>0.000000</td>\n",
       "      <td>1.000000</td>\n",
       "      <td>0.000000</td>\n",
       "      <td>0.000000</td>\n",
       "      <td>0.000000</td>\n",
       "      <td>0.000000</td>\n",
       "      <td>0.000000</td>\n",
       "      <td>0.000000</td>\n",
       "      <td>0.000000</td>\n",
       "    </tr>\n",
       "    <tr>\n",
       "      <th>50%</th>\n",
       "      <td>7.368000e+06</td>\n",
       "      <td>1340.000000</td>\n",
       "      <td>3.000000</td>\n",
       "      <td>0.000000</td>\n",
       "      <td>9.000000</td>\n",
       "      <td>9.000000</td>\n",
       "      <td>9.000000</td>\n",
       "      <td>9.000000</td>\n",
       "      <td>9.000000</td>\n",
       "      <td>9.000000</td>\n",
       "      <td>...</td>\n",
       "      <td>9.000000</td>\n",
       "      <td>9.000000</td>\n",
       "      <td>9.000000</td>\n",
       "      <td>9.000000</td>\n",
       "      <td>9.000000</td>\n",
       "      <td>9.000000</td>\n",
       "      <td>9.000000</td>\n",
       "      <td>9.000000</td>\n",
       "      <td>9.000000</td>\n",
       "      <td>9.000000</td>\n",
       "    </tr>\n",
       "    <tr>\n",
       "      <th>75%</th>\n",
       "      <td>1.070000e+07</td>\n",
       "      <td>1662.500000</td>\n",
       "      <td>3.000000</td>\n",
       "      <td>0.000000</td>\n",
       "      <td>9.000000</td>\n",
       "      <td>9.000000</td>\n",
       "      <td>9.000000</td>\n",
       "      <td>9.000000</td>\n",
       "      <td>9.000000</td>\n",
       "      <td>9.000000</td>\n",
       "      <td>...</td>\n",
       "      <td>9.000000</td>\n",
       "      <td>9.000000</td>\n",
       "      <td>9.000000</td>\n",
       "      <td>9.000000</td>\n",
       "      <td>9.000000</td>\n",
       "      <td>9.000000</td>\n",
       "      <td>9.000000</td>\n",
       "      <td>9.000000</td>\n",
       "      <td>9.000000</td>\n",
       "      <td>9.000000</td>\n",
       "    </tr>\n",
       "    <tr>\n",
       "      <th>max</th>\n",
       "      <td>3.000000e+08</td>\n",
       "      <td>9900.000000</td>\n",
       "      <td>7.000000</td>\n",
       "      <td>1.000000</td>\n",
       "      <td>9.000000</td>\n",
       "      <td>9.000000</td>\n",
       "      <td>9.000000</td>\n",
       "      <td>9.000000</td>\n",
       "      <td>9.000000</td>\n",
       "      <td>9.000000</td>\n",
       "      <td>...</td>\n",
       "      <td>9.000000</td>\n",
       "      <td>9.000000</td>\n",
       "      <td>9.000000</td>\n",
       "      <td>9.000000</td>\n",
       "      <td>9.000000</td>\n",
       "      <td>9.000000</td>\n",
       "      <td>9.000000</td>\n",
       "      <td>9.000000</td>\n",
       "      <td>9.000000</td>\n",
       "      <td>9.000000</td>\n",
       "    </tr>\n",
       "  </tbody>\n",
       "</table>\n",
       "<p>8 rows × 39 columns</p>\n",
       "</div>"
      ],
      "text/plain": [
       "              Price         Area  No. of Bedrooms       Resale  \\\n",
       "count  6.207000e+03  6207.000000      6207.000000  6207.000000   \n",
       "mean   1.058510e+07  1526.094248         2.556952     0.078782   \n",
       "std    1.410943e+07   764.845609         0.694300     0.269420   \n",
       "min    2.000000e+06   415.000000         1.000000     0.000000   \n",
       "25%    5.000000e+06  1110.000000         2.000000     0.000000   \n",
       "50%    7.368000e+06  1340.000000         3.000000     0.000000   \n",
       "75%    1.070000e+07  1662.500000         3.000000     0.000000   \n",
       "max    3.000000e+08  9900.000000         7.000000     1.000000   \n",
       "\n",
       "       MaintenanceStaff    Gymnasium  SwimmingPool  LandscapedGardens  \\\n",
       "count       6207.000000  6207.000000   6207.000000        6207.000000   \n",
       "mean           6.208797     6.461576      6.436121           6.382471   \n",
       "std            4.126883     3.752421      3.792567           3.875271   \n",
       "min            0.000000     0.000000      0.000000           0.000000   \n",
       "25%            0.000000     1.000000      1.000000           1.000000   \n",
       "50%            9.000000     9.000000      9.000000           9.000000   \n",
       "75%            9.000000     9.000000      9.000000           9.000000   \n",
       "max            9.000000     9.000000      9.000000           9.000000   \n",
       "\n",
       "       JoggingTrack  RainWaterHarvesting  ...  LiftAvailable          BED  \\\n",
       "count   6207.000000          6207.000000  ...    6207.000000  6207.000000   \n",
       "mean       6.396649             6.373933  ...       6.438537     6.211052   \n",
       "std        3.853661             3.888204  ...       3.788782     4.123761   \n",
       "min        0.000000             0.000000  ...       0.000000     0.000000   \n",
       "25%        1.000000             1.000000  ...       1.000000     0.000000   \n",
       "50%        9.000000             9.000000  ...       9.000000     9.000000   \n",
       "75%        9.000000             9.000000  ...       9.000000     9.000000   \n",
       "max        9.000000             9.000000  ...       9.000000     9.000000   \n",
       "\n",
       "       VaastuCompliant    Microwave   GolfCourse           TV  DiningTable  \\\n",
       "count      6207.000000  6207.000000  6207.000000  6207.000000  6207.000000   \n",
       "mean          6.311100     6.210569     6.181569     6.210569     6.210569   \n",
       "std           3.981513     4.124430     4.164294     4.124430     4.124430   \n",
       "min           0.000000     0.000000     0.000000     0.000000     0.000000   \n",
       "25%           1.000000     0.000000     0.000000     0.000000     0.000000   \n",
       "50%           9.000000     9.000000     9.000000     9.000000     9.000000   \n",
       "75%           9.000000     9.000000     9.000000     9.000000     9.000000   \n",
       "max           9.000000     9.000000     9.000000     9.000000     9.000000   \n",
       "\n",
       "              Sofa     Wardrobe  Refrigerator  \n",
       "count  6207.000000  6207.000000   6207.000000  \n",
       "mean      6.210569     6.171097      6.210569  \n",
       "std       4.124430     4.178546      4.124430  \n",
       "min       0.000000     0.000000      0.000000  \n",
       "25%       0.000000     0.000000      0.000000  \n",
       "50%       9.000000     9.000000      9.000000  \n",
       "75%       9.000000     9.000000      9.000000  \n",
       "max       9.000000     9.000000      9.000000  \n",
       "\n",
       "[8 rows x 39 columns]"
      ]
     },
     "execution_count": 7,
     "metadata": {},
     "output_type": "execute_result"
    }
   ],
   "source": [
    "\n",
    "data_bangalore.describe()"
   ]
  },
  {
   "cell_type": "code",
   "execution_count": 8,
   "metadata": {},
   "outputs": [
    {
     "data": {
      "text/plain": [
       "Price                  0\n",
       "Area                   0\n",
       "Location               0\n",
       "No. of Bedrooms        0\n",
       "Resale                 0\n",
       "MaintenanceStaff       0\n",
       "Gymnasium              0\n",
       "SwimmingPool           0\n",
       "LandscapedGardens      0\n",
       "JoggingTrack           0\n",
       "RainWaterHarvesting    0\n",
       "IndoorGames            0\n",
       "ShoppingMall           0\n",
       "Intercom               0\n",
       "SportsFacility         0\n",
       "ATM                    0\n",
       "ClubHouse              0\n",
       "School                 0\n",
       "24X7Security           0\n",
       "PowerBackup            0\n",
       "CarParking             0\n",
       "StaffQuarter           0\n",
       "Cafeteria              0\n",
       "MultipurposeRoom       0\n",
       "Hospital               0\n",
       "WashingMachine         0\n",
       "Gasconnection          0\n",
       "AC                     0\n",
       "Wifi                   0\n",
       "Children'splayarea     0\n",
       "LiftAvailable          0\n",
       "BED                    0\n",
       "VaastuCompliant        0\n",
       "Microwave              0\n",
       "GolfCourse             0\n",
       "TV                     0\n",
       "DiningTable            0\n",
       "Sofa                   0\n",
       "Wardrobe               0\n",
       "Refrigerator           0\n",
       "dtype: int64"
      ]
     },
     "execution_count": 8,
     "metadata": {},
     "output_type": "execute_result"
    }
   ],
   "source": [
    "data_bangalore.isnull().sum()"
   ]
  },
  {
   "cell_type": "code",
   "execution_count": 9,
   "metadata": {},
   "outputs": [
    {
     "data": {
      "text/html": [
       "<div>\n",
       "<style scoped>\n",
       "    .dataframe tbody tr th:only-of-type {\n",
       "        vertical-align: middle;\n",
       "    }\n",
       "\n",
       "    .dataframe tbody tr th {\n",
       "        vertical-align: top;\n",
       "    }\n",
       "\n",
       "    .dataframe thead th {\n",
       "        text-align: right;\n",
       "    }\n",
       "</style>\n",
       "<table border=\"1\" class=\"dataframe\">\n",
       "  <thead>\n",
       "    <tr style=\"text-align: right;\">\n",
       "      <th></th>\n",
       "      <th>No. of Bedrooms</th>\n",
       "    </tr>\n",
       "  </thead>\n",
       "  <tbody>\n",
       "    <tr>\n",
       "      <th>3</th>\n",
       "      <td>2799</td>\n",
       "    </tr>\n",
       "    <tr>\n",
       "      <th>2</th>\n",
       "      <td>2750</td>\n",
       "    </tr>\n",
       "    <tr>\n",
       "      <th>4</th>\n",
       "      <td>402</td>\n",
       "    </tr>\n",
       "    <tr>\n",
       "      <th>1</th>\n",
       "      <td>230</td>\n",
       "    </tr>\n",
       "    <tr>\n",
       "      <th>5</th>\n",
       "      <td>22</td>\n",
       "    </tr>\n",
       "    <tr>\n",
       "      <th>7</th>\n",
       "      <td>2</td>\n",
       "    </tr>\n",
       "    <tr>\n",
       "      <th>6</th>\n",
       "      <td>2</td>\n",
       "    </tr>\n",
       "  </tbody>\n",
       "</table>\n",
       "</div>"
      ],
      "text/plain": [
       "   No. of Bedrooms\n",
       "3             2799\n",
       "2             2750\n",
       "4              402\n",
       "1              230\n",
       "5               22\n",
       "7                2\n",
       "6                2"
      ]
     },
     "execution_count": 9,
     "metadata": {},
     "output_type": "execute_result"
    }
   ],
   "source": [
    "data_bangalore['No. of Bedrooms'].value_counts().to_frame()"
   ]
  },
  {
   "cell_type": "markdown",
   "metadata": {},
   "source": [
    "***Using the function boxplot in the seaborn library to determine \n",
    "whether houses with a swimming pool or without a swimming pool have more price outliers***"
   ]
  },
  {
   "cell_type": "code",
   "execution_count": 10,
   "metadata": {},
   "outputs": [
    {
     "data": {
      "text/plain": [
       "<matplotlib.axes._subplots.AxesSubplot at 0x13602ff7dc8>"
      ]
     },
     "execution_count": 10,
     "metadata": {},
     "output_type": "execute_result"
    },
    {
     "data": {
      "image/png": "[encoded data removed]",
      "text/plain": [
       "<Figure size 432x288 with 1 Axes>"
      ]
     },
     "metadata": {
      "needs_background": "light"
     },
     "output_type": "display_data"
    }
   ],
   "source": [
    "sns.boxplot(x='SwimmingPool', y='Price', data=data_bangalore)"
   ]
  },
  {
   "cell_type": "markdown",
   "metadata": {},
   "source": [
    "***Using the function regplot in the seaborn library to determine if the feature***\n",
    "***Area is negatively or positively correlated with price.***"
   ]
  },
  {
   "cell_type": "code",
   "execution_count": 11,
   "metadata": {},
   "outputs": [
    {
     "data": {
      "text/plain": [
       "<matplotlib.axes._subplots.AxesSubplot at 0x13603e53dc8>"
      ]
     },
     "execution_count": 11,
     "metadata": {},
     "output_type": "execute_result"
    },
    {
     "data": {
      "image/png": "[encoded data removed]",
      "text/plain": [
       "<Figure size 432x288 with 1 Axes>"
      ]
     },
     "metadata": {
      "needs_background": "light"
     },
     "output_type": "display_data"
    }
   ],
   "source": [
    "sns.regplot(x='Area', y='Price', data=data_bangalore)"
   ]
  },
  {
   "cell_type": "markdown",
   "metadata": {},
   "source": [
    "***We can use the Pandas method corr() to find the feature other than price that is most correlated with price.***\n"
   ]
  },
  {
   "cell_type": "code",
   "execution_count": 12,
   "metadata": {},
   "outputs": [
    {
     "data": {
      "text/plain": [
       "Resale                -0.038024\n",
       "School                 0.028669\n",
       "LiftAvailable          0.028814\n",
       "ShoppingMall           0.029271\n",
       "VaastuCompliant        0.029598\n",
       "LandscapedGardens      0.029744\n",
       "Hospital               0.029807\n",
       "ATM                    0.029886\n",
       "MultipurposeRoom       0.030135\n",
       "Wifi                   0.030335\n",
       "Wardrobe               0.030335\n",
       "MaintenanceStaff       0.030497\n",
       "Intercom               0.030951\n",
       "PowerBackup            0.031008\n",
       "StaffQuarter           0.031274\n",
       "GolfCourse             0.031330\n",
       "Cafeteria              0.031584\n",
       "Gymnasium              0.031976\n",
       "Children'splayarea     0.032281\n",
       "WashingMachine         0.033460\n",
       "Refrigerator           0.033460\n",
       "TV                     0.033460\n",
       "DiningTable            0.033460\n",
       "Sofa                   0.033460\n",
       "Microwave              0.033460\n",
       "AC                     0.033497\n",
       "BED                    0.033519\n",
       "24X7Security           0.033528\n",
       "RainWaterHarvesting    0.033558\n",
       "Gasconnection          0.033865\n",
       "IndoorGames            0.033942\n",
       "SwimmingPool           0.034450\n",
       "JoggingTrack           0.035339\n",
       "CarParking             0.035386\n",
       "ClubHouse              0.036059\n",
       "SportsFacility         0.036435\n",
       "No. of Bedrooms        0.234272\n",
       "Area                   0.397626\n",
       "Price                  1.000000\n",
       "Name: Price, dtype: float64"
      ]
     },
     "execution_count": 12,
     "metadata": {},
     "output_type": "execute_result"
    }
   ],
   "source": [
    "data_bangalore.corr()['Price'].sort_values()\n"
   ]
  },
  {
   "cell_type": "markdown",
   "metadata": {},
   "source": [
    "***Using the function boxplot in the seaborn library to determine \n",
    "whether houses with a Gymnasium or without a Gymnasium have more price outliers***"
   ]
  },
  {
   "cell_type": "code",
   "execution_count": 13,
   "metadata": {},
   "outputs": [
    {
     "data": {
      "text/plain": [
       "<matplotlib.axes._subplots.AxesSubplot at 0x136041deec8>"
      ]
     },
     "execution_count": 13,
     "metadata": {},
     "output_type": "execute_result"
    },
    {
     "data": {
      "image/png": "[encoded data removed]",
      "text/plain": [
       "<Figure size 432x288 with 1 Axes>"
      ]
     },
     "metadata": {
      "needs_background": "light"
     },
     "output_type": "display_data"
    }
   ],
   "source": [
    "sns.boxplot(x='Gymnasium', y='Price', data=data_bangalore)"
   ]
  },
  {
   "cell_type": "markdown",
   "metadata": {},
   "source": [
    "***Using the function boxplot in the seaborn library to determine \n",
    "whether houses with a PowerBackup or without a PowerBackup have more price outliers***"
   ]
  },
  {
   "cell_type": "code",
   "execution_count": 14,
   "metadata": {},
   "outputs": [
    {
     "data": {
      "text/plain": [
       "<matplotlib.axes._subplots.AxesSubplot at 0x13603e28f88>"
      ]
     },
     "execution_count": 14,
     "metadata": {},
     "output_type": "execute_result"
    },
    {
     "data": {
      "image/png": "[encoded data removed]",
      "text/plain": [
       "<Figure size 432x288 with 1 Axes>"
      ]
     },
     "metadata": {
      "needs_background": "light"
     },
     "output_type": "display_data"
    }
   ],
   "source": [
    "sns.boxplot(x='PowerBackup', y='Price', data=data_bangalore)"
   ]
  },
  {
   "cell_type": "markdown",
   "metadata": {},
   "source": [
    "***Using the function regplot in the seaborn library to determine if the feature***\n",
    "***Resale is negatively or positively correlated with price.***"
   ]
  },
  {
   "cell_type": "code",
   "execution_count": 15,
   "metadata": {},
   "outputs": [
    {
     "data": {
      "text/plain": [
       "<matplotlib.axes._subplots.AxesSubplot at 0x13604309cc8>"
      ]
     },
     "execution_count": 15,
     "metadata": {},
     "output_type": "execute_result"
    },
    {
     "data": {
      "image/png": "[encoded data removed]",
      "text/plain": [
       "<Figure size 432x288 with 1 Axes>"
      ]
     },
     "metadata": {
      "needs_background": "light"
     },
     "output_type": "display_data"
    }
   ],
   "source": [
    "sns.regplot(x='Resale', y='Price', data=data_bangalore)"
   ]
  },
  {
   "cell_type": "code",
   "execution_count": 16,
   "metadata": {},
   "outputs": [],
   "source": [
    "import matplotlib.pyplot as plt\n",
    "from sklearn.linear_model import LinearRegression"
   ]
  },
  {
   "cell_type": "markdown",
   "metadata": {},
   "source": [
    "***Fit a linear regression model to predict the 'Price' using the feature 'Area'***"
   ]
  },
  {
   "cell_type": "code",
   "execution_count": 20,
   "metadata": {},
   "outputs": [
    {
     "data": {
      "text/plain": [
       "0.1581063952035402"
      ]
     },
     "execution_count": 20,
     "metadata": {},
     "output_type": "execute_result"
    }
   ],
   "source": [
    "U = data_bangalore[['Area']]\n",
    "V = data_bangalore['Price']\n",
    "lm = LinearRegression()\n",
    "lm\n",
    "lm.fit(U,V)\n",
    "lm.score(U,V)"
   ]
  },
  {
   "cell_type": "markdown",
   "metadata": {},
   "source": [
    "***Fit a linear regression model to predict the 'price' using the list of features:***"
   ]
  },
  {
   "cell_type": "code",
   "execution_count": 21,
   "metadata": {},
   "outputs": [
    {
     "data": {
      "text/plain": [
       "LinearRegression(copy_X=True, fit_intercept=True, n_jobs=None, normalize=False)"
      ]
     },
     "execution_count": 21,
     "metadata": {},
     "output_type": "execute_result"
    }
   ],
   "source": [
    "features =[\"Resale\", \"LiftAvailable\",\"No. of Bedrooms\" ,\"LandscapedGardens\" ,\"MaintenanceStaff\" ,\"24X7Security\" ,\"CarParking\",\"IndoorGames\"]     \n",
    "X = data_bangalore[features]\n",
    "Y = data_bangalore['Price']\n",
    "lm.fit(X,Y)"
   ]
  },
  {
   "cell_type": "code",
   "execution_count": 22,
   "metadata": {},
   "outputs": [
    {
     "data": {
      "text/plain": [
       "LinearRegression(copy_X=True, fit_intercept=True, n_jobs=None, normalize=False)"
      ]
     },
     "execution_count": 22,
     "metadata": {},
     "output_type": "execute_result"
    }
   ],
   "source": [
    "LinearRegression(copy_X=True, fit_intercept=True, n_jobs=None,\n",
    "         normalize=False)"
   ]
  },
  {
   "cell_type": "code",
   "execution_count": 23,
   "metadata": {},
   "outputs": [
    {
     "data": {
      "text/plain": [
       "0.06646153856864256"
      ]
     },
     "execution_count": 23,
     "metadata": {},
     "output_type": "execute_result"
    }
   ],
   "source": [
    "lm.score(X,Y)"
   ]
  },
  {
   "cell_type": "markdown",
   "metadata": {},
   "source": [
    "***MODEL EVALUATION***"
   ]
  },
  {
   "cell_type": "code",
   "execution_count": 24,
   "metadata": {},
   "outputs": [
    {
     "name": "stdout",
     "output_type": "stream",
     "text": [
      "done\n"
     ]
    }
   ],
   "source": [
    "from sklearn.model_selection import cross_val_score\n",
    "from sklearn.model_selection import train_test_split\n",
    "print(\"done\")"
   ]
  },
  {
   "cell_type": "markdown",
   "metadata": {},
   "source": [
    "***we will split the data into training and testing set***"
   ]
  },
  {
   "cell_type": "code",
   "execution_count": 25,
   "metadata": {},
   "outputs": [
    {
     "name": "stdout",
     "output_type": "stream",
     "text": [
      "number of test samples : 932\n",
      "number of training samples: 5275\n"
     ]
    }
   ],
   "source": [
    "features =[\"Resale\", \"LiftAvailable\",\"No. of Bedrooms\" ,\"LandscapedGardens\" ,\"MaintenanceStaff\" ,\"24X7Security\" ,\"CarParking\",\"IndoorGames\"]     \n",
    "X = data_bangalore[features]\n",
    "Y = data_bangalore['Price']\n",
    "\n",
    "x_train, x_test, y_train, y_test = train_test_split(X, Y, test_size=0.15, random_state=1)\n",
    "\n",
    "\n",
    "print(\"number of test samples :\", x_test.shape[0])\n",
    "print(\"number of training samples:\",x_train.shape[0])"
   ]
  },
  {
   "cell_type": "code",
   "execution_count": 26,
   "metadata": {},
   "outputs": [
    {
     "data": {
      "text/plain": [
       "0.07651287130558526"
      ]
     },
     "execution_count": 26,
     "metadata": {},
     "output_type": "execute_result"
    }
   ],
   "source": [
    "from sklearn.linear_model import Ridge\n",
    "RigeModel=Ridge(alpha=0.1)\n",
    "RigeModel.fit(x_train, y_train)\n",
    "RigeModel.score(x_test, y_test)"
   ]
  },
  {
   "cell_type": "markdown",
   "metadata": {},
   "source": [
    "***Data Exploration***"
   ]
  },
  {
   "cell_type": "code",
   "execution_count": 30,
   "metadata": {},
   "outputs": [
    {
     "name": "stdout",
     "output_type": "stream",
     "text": [
      "Statistics for Bangalore housing dataset:\n",
      "\n",
      "Minimum price: 2000000\n",
      "Maximum price: 300000000\n",
      "Mean price: 10585104.825519575\n",
      "Median price 7368000.0\n",
      "Standard deviation of prices: 14108297.374997266\n"
     ]
    }
   ],
   "source": [
    "# TODO: Minimum price of the data\n",
    "minimum_price = np.min(data_bangalore['Price'])\n",
    "\n",
    "# TODO: Maximum price of the data\n",
    "maximum_price = np.max(data_bangalore['Price'])\n",
    "\n",
    "# TODO: Mean price of the data\n",
    "mean_price = np.mean(data_bangalore['Price'])\n",
    "\n",
    "# TODO: Median price of the data\n",
    "median_price = np.median(data_bangalore['Price'])\n",
    "\n",
    "# TODO: Standard deviation of prices of the data\n",
    "std_price = np.std(data_bangalore['Price'])\n",
    "\n",
    "# Show the calculated statistics\n",
    "print(\"Statistics for Bangalore housing dataset:\\n\")\n",
    "print(\"Minimum price: {}\".format(minimum_price)) \n",
    "print(\"Maximum price: {}\".format(maximum_price))\n",
    "print(\"Mean price: {}\".format(mean_price))\n",
    "print(\"Median price {}\".format(median_price))\n",
    "print(\"Standard deviation of prices: {}\".format(std_price))"
   ]
  },
  {
   "cell_type": "code",
   "execution_count": 31,
   "metadata": {},
   "outputs": [
    {
     "name": "stdout",
     "output_type": "stream",
     "text": [
      "Statistics for Mumbai housing dataset:\n",
      "\n",
      "Minimum price: 2000000\n",
      "Maximum price: 420000000\n",
      "Mean price: 15061652.396165306\n",
      "Median price 9500000.0\n",
      "Standard deviation of prices: 20519670.608136673\n"
     ]
    }
   ],
   "source": [
    "# TODO: Minimum price of the data\n",
    "minimum_price = np.min(data_mumbai['Price'])\n",
    "\n",
    "# TODO: Maximum price of the data\n",
    "maximum_price = np.max(data_mumbai['Price'])\n",
    "\n",
    "# TODO: Mean price of the data\n",
    "mean_price = np.mean(data_mumbai['Price'])\n",
    "\n",
    "# TODO: Median price of the data\n",
    "median_price = np.median(data_mumbai['Price'])\n",
    "\n",
    "# TODO: Standard deviation of prices of the data\n",
    "std_price = np.std(data_mumbai['Price'])\n",
    "\n",
    "# Show the calculated statistics\n",
    "print(\"Statistics for Mumbai housing dataset:\\n\")\n",
    "print(\"Minimum price: {}\".format(minimum_price)) \n",
    "print(\"Maximum price: {}\".format(maximum_price))\n",
    "print(\"Mean price: {}\".format(mean_price))\n",
    "print(\"Median price {}\".format(median_price))\n",
    "print(\"Standard deviation of prices: {}\".format(std_price))"
   ]
  },
  {
   "cell_type": "code",
   "execution_count": 32,
   "metadata": {},
   "outputs": [
    {
     "name": "stdout",
     "output_type": "stream",
     "text": [
      "Statistics for Kolkata housing dataset:\n",
      "\n",
      "Minimum price: 2000000\n",
      "Maximum price: 504000000\n",
      "Mean price: 8508569.667742431\n",
      "Median price 4940000.0\n"
     ]
    }
   ],
   "source": [
    "# TODO: Minimum price of the data\n",
    "minimum_price = np.min(data_kolkata['Price'])\n",
    "\n",
    "# TODO: Maximum price of the data\n",
    "maximum_price = np.max(data_kolkata['Price'])\n",
    "\n",
    "# TODO: Mean price of the data\n",
    "mean_price = np.mean(data_kolkata['Price'])\n",
    "\n",
    "# TODO: Median price of the data\n",
    "median_price = np.median(data_kolkata['Price'])\n",
    "\n",
    "# TODO: Standard deviation of prices of the data\n",
    "std_price = np.std(data_kolkata['Price'])\n",
    "\n",
    "# Show the calculated statistics\n",
    "print(\"Statistics for Kolkata housing dataset:\\n\")\n",
    "print(\"Minimum price: {}\".format(minimum_price)) \n",
    "print(\"Maximum price: {}\".format(maximum_price))\n",
    "print(\"Mean price: {}\".format(mean_price))\n",
    "print(\"Median price {}\".format(median_price))"
   ]
  },
  {
   "cell_type": "code",
   "execution_count": 33,
   "metadata": {},
   "outputs": [
    {
     "name": "stdout",
     "output_type": "stream",
     "text": [
      "Statistics for Delhi housing dataset:\n",
      "\n",
      "Minimum price: 2000000\n",
      "Maximum price: 854599999\n",
      "Mean price: 15886383.744497798\n",
      "Median price 5500000.0\n"
     ]
    }
   ],
   "source": [
    "# TODO: Minimum price of the data\n",
    "minimum_price = np.min(data_delhi['Price'])\n",
    "\n",
    "# TODO: Maximum price of the data\n",
    "maximum_price = np.max(data_delhi['Price'])\n",
    "\n",
    "# TODO: Mean price of the data\n",
    "mean_price = np.mean(data_delhi['Price'])\n",
    "\n",
    "# TODO: Median price of the data\n",
    "median_price = np.median(data_delhi['Price'])\n",
    "\n",
    "# TODO: Standard deviation of prices of the data\n",
    "std_price = np.std(data_delhi['Price'])\n",
    "\n",
    "# Show the calculated statistics\n",
    "print(\"Statistics for Delhi housing dataset:\\n\")\n",
    "print(\"Minimum price: {}\".format(minimum_price)) \n",
    "print(\"Maximum price: {}\".format(maximum_price))\n",
    "print(\"Mean price: {}\".format(mean_price))\n",
    "print(\"Median price {}\".format(median_price))"
   ]
  },
  {
   "cell_type": "markdown",
   "metadata": {},
   "source": []
  },
  {
   "cell_type": "code",
   "execution_count": 40,
   "metadata": {},
   "outputs": [
    {
     "data": {
      "image/png": "[encoded data removed]",
      "text/plain": [
       "<Figure size 432x288 with 1 Axes>"
      ]
     },
     "metadata": {
      "needs_background": "light"
     },
     "output_type": "display_data"
    }
   ],
   "source": [
    "fig=plt.figure()\n",
    "ax=fig.add_subplot(1, 1, 1)\n",
    "ax.scatter(data_delhi['No. of Bedrooms'], data_delhi['Price']) \n",
    "#Lables & Title\n",
    "plt.title(\"Average selling Prices and Average number of rooms (Delhi)\")\n",
    "plt.xlabel(\"No. of Bedrooms\")\n",
    "plt.ylabel(\"Price\")\n",
    "plt.show()"
   ]
  },
  {
   "cell_type": "code",
   "execution_count": 39,
   "metadata": {},
   "outputs": [
    {
     "data": {
      "image/png": "[encoded data removed]",
      "text/plain": [
       "<Figure size 432x288 with 1 Axes>"
      ]
     },
     "metadata": {
      "needs_background": "light"
     },
     "output_type": "display_data"
    }
   ],
   "source": [
    "fig=plt.figure()\n",
    "ax=fig.add_subplot(1, 1, 1)\n",
    "ax.scatter(data_delhi['Location'], data_delhi['Price']) \n",
    "#Lables & Title\n",
    "plt.title(\"Average selling Prices and Location (Delhi)\")\n",
    "plt.xlabel(\"Location\")\n",
    "plt.ylabel(\"Price\")\n",
    "plt.show()"
   ]
  },
  {
   "cell_type": "code",
   "execution_count": 38,
   "metadata": {},
   "outputs": [
    {
     "data": {
      "image/png": "[encoded data removed]",
      "text/plain": [
       "<Figure size 432x288 with 1 Axes>"
      ]
     },
     "metadata": {
      "needs_background": "light"
     },
     "output_type": "display_data"
    }
   ],
   "source": [
    "fig=plt.figure()\n",
    "ax=fig.add_subplot(1, 1, 1)\n",
    "ax.scatter(data_bangalore['Location'], data_bangalore['Price']) \n",
    "#Lables & Title\n",
    "plt.title(\"Average selling Prices and Location (bangalore)\")\n",
    "plt.xlabel(\"Location\")\n",
    "plt.ylabel(\"Price\")\n",
    "plt.show()"
   ]
  },
  {
   "cell_type": "code",
   "execution_count": null,
   "metadata": {},
   "outputs": [],
   "source": []
  },
  {
   "cell_type": "code",
   "execution_count": null,
   "metadata": {},
   "outputs": [],
   "source": []
  },
  {
   "cell_type": "code",
   "execution_count": null,
   "metadata": {},
   "outputs": [],
   "source": []
  },
  {
   "cell_type": "code",
   "execution_count": null,
   "metadata": {},
   "outputs": [],
   "source": []
  }
 ],
 "metadata": {
  "kernelspec": {
   "display_name": "Python 3",
   "language": "python",
   "name": "python3"
  },
  "language_info": {
   "codemirror_mode": {
    "name": "ipython",
    "version": 3
   },
   "file_extension": ".py",
   "mimetype": "text/x-python",
   "name": "python",
   "nbconvert_exporter": "python",
   "pygments_lexer": "ipython3",
   "version": "3.7.6"
  }
 },
 "nbformat": 4,
 "nbformat_minor": 4
}
